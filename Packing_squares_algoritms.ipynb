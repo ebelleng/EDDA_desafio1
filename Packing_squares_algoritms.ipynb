{
  "nbformat": 4,
  "nbformat_minor": 0,
  "metadata": {
    "colab": {
      "name": "Copy of Packing squares algoritms.ipynb",
      "provenance": [],
      "collapsed_sections": [],
      "include_colab_link": true
    },
    "kernelspec": {
      "name": "python3",
      "display_name": "Python 3"
    },
    "language_info": {
      "name": "python"
    }
  },
  "cells": [
    {
      "cell_type": "markdown",
      "metadata": {
        "id": "view-in-github",
        "colab_type": "text"
      },
      "source": [
        "<a href=\"https://colab.research.google.com/github/ebelleng/EDDA_desafio1/blob/refactoring/Copy_of_Packing_squares_algoritms.ipynb\" target=\"_parent\"><img src=\"https://colab.research.google.com/assets/colab-badge.svg\" alt=\"Open In Colab\"/></a>"
      ]
    },
    {
      "cell_type": "markdown",
      "metadata": {
        "id": "Pmu3EcU1CUCQ"
      },
      "source": [
        "# Packing Squares \n"
      ]
    },
    {
      "cell_type": "markdown",
      "metadata": {
        "id": "UqhZv6lod3pe"
      },
      "source": [
        "## Definicion de clases y constantes\n",
        "\n"
      ]
    },
    {
      "cell_type": "code",
      "metadata": {
        "id": "MP3ljxIfjlTg"
      },
      "source": [
        "import bisect\n",
        "\n",
        "# Constantes\n",
        "CANT_SQUARES = 8\n",
        "BOARD_SIZE = 5\n",
        "\n",
        "# Largo de los cuadrados a posicionar\n",
        "SQUARES = [3,2,2,2,1,1,1,1]"
      ],
      "execution_count": 4,
      "outputs": []
    },
    {
      "cell_type": "code",
      "metadata": {
        "id": "eJJXHhTIfHs-"
      },
      "source": [
        "class Accion:\n",
        "  def __init__(self, i, x, y):\n",
        "    self.i = i\n",
        "    self.x = x\n",
        "    self.y = y\n",
        "\n",
        "  def __str__(self):\n",
        "    return f'{self.i}: ({self.x}, {self.y})'\n",
        "\n",
        "  def __repr__(self):\n",
        "    return self.__str__()"
      ],
      "execution_count": 5,
      "outputs": []
    },
    {
      "cell_type": "code",
      "metadata": {
        "id": "T1USJY58Gf-w"
      },
      "source": [
        "class Estado:\n",
        "  def __init__(self, state_copy=None, i=0, x=0, y=0):\n",
        "    self.X = [0] * CANT_SQUARES\n",
        "    self.Y = [0] * CANT_SQUARES\n",
        "\n",
        "    if state_copy != None:\n",
        "      for j in range(i):\n",
        "        self.X[j] = state_copy.X[j]\n",
        "        self.Y[j] = state_copy.Y[j]\n",
        "\n",
        "    self.X[i] = x\n",
        "    self.Y[i] = y\n",
        "    self.weight = Estado.getEvaluation(self)\n",
        "\n",
        "  def isLastState(self):\n",
        "    return self.X[-1] != 0\n",
        "\n",
        "  def getCurrent(self):\n",
        "    return self.X.index(0)\n",
        "\n",
        "  def checkCollitions(self, x, y, size):\n",
        "    current = self.getCurrent()\n",
        "    for i in range(current):\n",
        "      if Estado.checkCollition(self.X[i], self.Y[i], SQUARES[i], x, y, size):\n",
        "        return True\n",
        "    \n",
        "    return False\n",
        "\n",
        "  @staticmethod\n",
        "  def checkCollition(x1, y1, s1, x2, y2, s2):\n",
        "    '''\n",
        "    Verifica si los dos cuadrados se solapan\n",
        "    x, y: posicion\n",
        "    s: largo del cuadrado\n",
        "    '''\n",
        "    if (y1 + s1) <= y2:\n",
        "      return False\n",
        "    elif y1 >= (y2 + s2):\n",
        "      return False\n",
        "    elif (x1 + s1) <= x2:\n",
        "      return False\n",
        "    elif x1 >= (x2 + s2):\n",
        "      return False\n",
        "    else:\n",
        "      return True\n",
        "\n",
        "  # Busca el mayor area cuadrada libre en el estado 'state'\n",
        "  @staticmethod\n",
        "  def getEvaluation(state):\n",
        "    if state.isLastState():\n",
        "      return BOARD_SIZE + 1\n",
        "\n",
        "    max_size = BOARD_SIZE\n",
        "\n",
        "    while max_size > 0:\n",
        "      # Se obtienen las celdas validas para que el cuadrado no se salga del tablero\n",
        "      valid_cells = [(i, j) for i in range(1, BOARD_SIZE - max_size + 2) for j in range(1, BOARD_SIZE - max_size + 2)]\n",
        "\n",
        "      # cell -> dupla que contiene la posicion (cell[0] = X, cell[1]=Y)\n",
        "      for cell in valid_cells:\n",
        "        has_collition = state.checkCollitions(cell[0], cell[1], max_size)\n",
        "\n",
        "        # El primer cuadrado que no tenga colisiones, sera la mayor area cuadrada\n",
        "        if not has_collition:\n",
        "          return max_size\n",
        "\n",
        "      # Se sigue buscando en una area cuadrada menor\n",
        "      max_size -= 1\n",
        "    \n",
        "    return -1\n",
        "\n",
        "  def __str__(self):\n",
        "    return f'X={self.X}  Y={self.Y} ({self.weight})'\n",
        "\n",
        "  def __repr__(self):\n",
        "    return self.__str__()\n",
        "\n",
        "  def __lt__(self, other):\n",
        "    return self.weight < other.weight"
      ],
      "execution_count": 41,
      "outputs": []
    },
    {
      "cell_type": "markdown",
      "metadata": {
        "id": "vUFArokbWBk0"
      },
      "source": [
        "## Funciones"
      ]
    },
    {
      "cell_type": "code",
      "metadata": {
        "id": "MAX3nFVG-Cov",
        "cellView": "code"
      },
      "source": [
        "def transicion(estado, accion):\n",
        "  estado_siguiente = Estado(estado, accion.i, accion.x, accion.y)\n",
        "  \n",
        "  return estado_siguiente"
      ],
      "execution_count": 32,
      "outputs": []
    },
    {
      "cell_type": "code",
      "metadata": {
        "id": "ixyC9xqr-eT0"
      },
      "source": [
        "def obtener_acciones(state):\n",
        "  current = state.getCurrent()\n",
        "  size = SQUARES[current]\n",
        "  actions = []\n",
        "\n",
        "  # Se obtienen las celdas validas para que el cuadrado no se salga del tablero\n",
        "  valid_cells = [(i, j) for i in range(1, BOARD_SIZE - size + 2) for j in range(1, BOARD_SIZE - size + 2)]\n",
        "\n",
        "  # cell -> dupla que contiene la posicion (cell[0] = X, cell[1]=Y)\n",
        "  for cell in valid_cells:\n",
        "    has_collition = state.checkCollitions(cell[0], cell[1], size)\n",
        "\n",
        "    if not has_collition:\n",
        "      actions.append(Accion(current, cell[0], cell[1]))\n",
        "  \n",
        "  return actions"
      ],
      "execution_count": 7,
      "outputs": []
    },
    {
      "cell_type": "code",
      "metadata": {
        "id": "y7opXQElUerE"
      },
      "source": [
        "def depthFirstSearch(initial_state):\n",
        "  # Lista que se usara como PILA\n",
        "  states = [initial_state]\n",
        "\n",
        "  while len(states) != 0:\n",
        "    current_state = states.pop()\n",
        "\n",
        "    if current_state.isLastState():\n",
        "      return current_state\n",
        "\n",
        "    actions = obtener_acciones(current_state)\n",
        "    for a in actions:\n",
        "      new_state = transicion(current_state, a)\n",
        "      states.append(new_state)\n",
        "\n",
        "  return None"
      ],
      "execution_count": 44,
      "outputs": []
    },
    {
      "cell_type": "code",
      "metadata": {
        "id": "zHARJdmyYR2p"
      },
      "source": [
        "def bestFirstSearch(initial_state):\n",
        "  # Lista que se usara como HEAP\n",
        "  states = [initial_state]\n",
        "\n",
        "  while len(states) != 0:\n",
        "    current_state = states.pop()\n",
        "\n",
        "    if current_state.isLastState():\n",
        "      return current_state\n",
        "\n",
        "    actions = obtener_acciones(current_state)\n",
        "    for a in actions:\n",
        "      new_state = transicion(current_state, a)\n",
        "\n",
        "      # Insercion ordenada en la lista\n",
        "      bisect.insort(states, new_state)\n",
        "\n",
        "  return None"
      ],
      "execution_count": 48,
      "outputs": []
    },
    {
      "cell_type": "markdown",
      "metadata": {
        "id": "lEqt07OjdL2C"
      },
      "source": [
        "## Ejemplos y anotaciones"
      ]
    },
    {
      "cell_type": "code",
      "metadata": {
        "colab": {
          "base_uri": "https://localhost:8080/"
        },
        "id": "Z4anvN8ySO7o",
        "outputId": "ca4c4ffd-c5c5-43f7-d5b3-c27e55e27435"
      },
      "source": [
        "ss = Estado()\n",
        "print(ss)\n",
        "\n",
        "a = obtener_acciones(ss)\n",
        "s = transicion(ss, a[0])\n",
        "print(s)\n",
        "\n",
        "lista = []\n",
        "bisect.insort(lista, ss)\n",
        "bisect.insort(lista, s)\n",
        "print(lista)\n",
        "print(lista.pop())"
      ],
      "execution_count": 35,
      "outputs": [
        {
          "output_type": "stream",
          "text": [
            "X=[0, 0, 0, 0, 0, 0, 0, 0]  Y=[0, 0, 0, 0, 0, 0, 0, 0] (5)\n",
            "X=[1, 0, 0, 0, 0, 0, 0, 0]  Y=[1, 0, 0, 0, 0, 0, 0, 0] (2)\n",
            "[X=[1, 0, 0, 0, 0, 0, 0, 0]  Y=[1, 0, 0, 0, 0, 0, 0, 0] (2), X=[0, 0, 0, 0, 0, 0, 0, 0]  Y=[0, 0, 0, 0, 0, 0, 0, 0] (5)]\n",
            "X=[0, 0, 0, 0, 0, 0, 0, 0]  Y=[0, 0, 0, 0, 0, 0, 0, 0] (5)\n"
          ],
          "name": "stdout"
        }
      ]
    },
    {
      "cell_type": "code",
      "metadata": {
        "colab": {
          "base_uri": "https://localhost:8080/"
        },
        "id": "RltNF4e-bweU",
        "outputId": "a7775f1a-85e4-4da2-e25f-51743660256c"
      },
      "source": [
        "# Ejemplo de como se van calculando las acciones posibles\n",
        "ss = Estado()\n",
        "l = []\n",
        "\n",
        "for i in range(CANT_SQUARES):\n",
        "  #print(ss)\n",
        "  bisect.insort(l, ss)\n",
        "  actions = obtener_acciones(ss)\n",
        "  ss = transicion(ss, actions[0])\n",
        "  #print(actions, end=\"\\n\\n\")\n",
        "\n",
        "print(l)"
      ],
      "execution_count": 29,
      "outputs": [
        {
          "output_type": "stream",
          "text": [
            "[X=[1, 1, 3, 4, 0, 0, 0, 0]  Y=[1, 4, 4, 1, 0, 0, 0, 0] (1), X=[1, 1, 3, 4, 4, 0, 0, 0]  Y=[1, 4, 4, 1, 3, 0, 0, 0] (1), X=[1, 1, 3, 4, 4, 5, 0, 0]  Y=[1, 4, 4, 1, 3, 3, 0, 0] (1), X=[1, 1, 3, 4, 4, 5, 5, 0]  Y=[1, 4, 4, 1, 3, 3, 4, 0] (1), X=[1, 0, 0, 0, 0, 0, 0, 0]  Y=[1, 0, 0, 0, 0, 0, 0, 0] (2), X=[1, 1, 0, 0, 0, 0, 0, 0]  Y=[1, 4, 0, 0, 0, 0, 0, 0] (2), X=[1, 1, 3, 0, 0, 0, 0, 0]  Y=[1, 4, 4, 0, 0, 0, 0, 0] (2), X=[0, 0, 0, 0, 0, 0, 0, 0]  Y=[0, 0, 0, 0, 0, 0, 0, 0] (5)]\n"
          ],
          "name": "stdout"
        }
      ]
    },
    {
      "cell_type": "code",
      "metadata": {
        "colab": {
          "base_uri": "https://localhost:8080/"
        },
        "id": "4XLRbXGcYQX8",
        "outputId": "01ab2d24-dbe7-4469-a2d0-49b2b3792e95"
      },
      "source": [
        "# Ejemplo del resultado al que llega el algoritmo\n",
        "initial_state = Estado()\n",
        "final_state = depthFirstSearch(initial_state)\n",
        "print(final_state)\n",
        "\n",
        "initial_state = Estado()\n",
        "final_state = bestFirstSearch(initial_state)\n",
        "print(final_state)"
      ],
      "execution_count": 47,
      "outputs": [
        {
          "output_type": "stream",
          "text": [
            "X=[3, 4, 2, 1, 2, 1, 1, 1]  Y=[3, 1, 1, 4, 3, 3, 2, 1] (6)\n",
            "X=[1, 1, 3, 4, 5, 5, 5, 4]  Y=[1, 4, 4, 2, 5, 4, 1, 1] (6)\n"
          ],
          "name": "stdout"
        }
      ]
    },
    {
      "cell_type": "code",
      "metadata": {
        "id": "CFqp0Cg08Ec1"
      },
      "source": [
        "# Ejemplo con tablero 9x9 y 22 cuadrados\n",
        "'''\n",
        "# Constantes\n",
        "CANT_SQUARES = 22\n",
        "BOARD_SIZE = 9\n",
        "\n",
        "# Largo de los cuadrados a posicionar\n",
        "SQUARES = [5,4,3,2,2,2,2,1,1,1,1,1,1,1,1,1,1,1,1,1,1,1]\n",
        "'''\n",
        "\n",
        "# Ejemplo con tablero de 12x12 y 33 cuadrados\n",
        "'''\n",
        "# Constantes\n",
        "CANT_SQUARES = 33\n",
        "BOARD_SIZE = 12\n",
        "\n",
        "# Largo de los cuadrados a posicionar\n",
        "SQUARES = [6,5,4,3,3,2,2,2,2,2,2,1,1,1,1,1,1,1,1,1,1,1,1,1,1,1,1,1,1,1,1,1,1]\n",
        "'''\n",
        "\n",
        "# Ejemplo con tablero de 14x14 y 39 cuadrados\n",
        "'''\n",
        "# Constantes\n",
        "CANT_SQUARES = 39\n",
        "BOARD_SIZE = 14\n",
        "\n",
        "# Largo de los cuadrados a posicionar\n",
        "SQUARES = [6,5,4,4,4,3,3,3,3,2,2,2,2,2,2,2,1,1,1,1,1,1,1,1,1,1,1,1,1,1,1,1,1,1,1,1,1,1,1]\n",
        "\n",
        "'''"
      ],
      "execution_count": null,
      "outputs": []
    }
  ]
}